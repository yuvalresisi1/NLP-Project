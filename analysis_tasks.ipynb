{
 "cells": [
  {
   "cell_type": "markdown",
   "id": "905c6300",
   "metadata": {},
   "source": [
    "### This notebook contains the tasks done on the Bacterial datasets' embeddings"
   ]
  },
  {
   "cell_type": "code",
   "execution_count": null,
   "id": "ea2db036-22b0-45d2-8353-2f02e05ef81d",
   "metadata": {},
   "outputs": [],
   "source": [
    "import numpy as np\n",
    "import pandas as pd\n",
    "import matplotlib.pyplot as plt\n",
    "import matplotlib.cm as cm\n",
    "from matplotlib.lines import Line2D\n",
    "import torch, json, re\n",
    "from tqdm import tqdm\n",
    "\n",
    "from scipy.cluster.hierarchy import dendrogram, linkage\n",
    "\n",
    "from sklearn.manifold import TSNE\n",
    "from sklearn.cluster import KMeans\n",
    "from sklearn.decomposition import PCA\n",
    "from sklearn.preprocessing import LabelEncoder\n",
    "from sklearn.ensemble import RandomForestClassifier\n",
    "from sklearn.model_selection import train_test_split\n",
    "from sklearn.metrics import accuracy_score, precision_score, recall_score, f1_score, classification_report\n",
    "from sklearn.metrics.pairwise import cosine_similarity\n",
    "from sklearn.cluster import AgglomerativeClustering\n",
    "from sklearn.model_selection import StratifiedKFold\n",
    "\n",
    "from tensorflow.keras.callbacks import ModelCheckpoint, EarlyStopping\n",
    "from tensorflow.keras.models import Sequential\n",
    "from tensorflow.keras.layers import Dense, Dropout\n",
    "from tensorflow.keras.optimizers import Adam\n",
    "\n",
    "device = \"cuda:0\" if torch.cuda.is_available() else \"cpu\""
   ]
  },
  {
   "cell_type": "markdown",
   "id": "195d941f-a05a-47ee-afda-dc46a6af90ea",
   "metadata": {},
   "source": [
    "### Load and clean data"
   ]
  },
  {
   "cell_type": "code",
   "execution_count": null,
   "id": "2f063e57-f604-487c-8e98-33a4ab2036bf",
   "metadata": {},
   "outputs": [],
   "source": [
    "# load data\n",
    "dna_df = pd.read_csv(f'dna_embeddings.csv')\n",
    "prot_df = pd.read_csv(f'protein_embeddings.csv')"
   ]
  },
  {
   "cell_type": "code",
   "execution_count": null,
   "id": "e43c004a-bcc7-4a17-b03d-bc51b265a5f8",
   "metadata": {},
   "outputs": [],
   "source": [
    "# load embeddings as numpy array and remove redundent columns\n",
    "def load_as_np(df):\n",
    "    df['embeddings'] = df['embeddings_json'].apply(lambda x: np.array(json.loads(x)))\n",
    "    drop_cols = ['Unnamed: 0', 'embeddings_np', 'embeddings_tensor', 'embeddings_json']\n",
    "    for col in drop_cols:\n",
    "        if col in df.columns:\n",
    "            df.drop(columns=[col], inplace=True)\n",
    "    return df\n",
    "\n",
    "dna_df = load_as_np(dna_df)\n",
    "prot_df = load_as_np(prot_df)"
   ]
  },
  {
   "cell_type": "code",
   "execution_count": null,
   "id": "11388ba8-a576-4a5b-bbb5-61322e213adc",
   "metadata": {},
   "outputs": [],
   "source": [
    "def clean_organism(value):\n",
    "    \"\"\"The funtion remove strain if contained in the organism columnm, and removes redundent characters\"\"\"\n",
    "    # Remove anything from 'str.' onward, including 'str.'\n",
    "    value = re.sub(r'\\s*str\\..*', '', value)\n",
    "    \n",
    "    # Remove square brackets\n",
    "    value = value.replace('[', '').replace(']', '')\n",
    "\n",
    "    # Replace multiple spaces with a single space\n",
    "    value = re.sub(r'\\s+', ' ', value).strip()\n",
    "\n",
    "    if value.endswith('sp.'):\n",
    "        value = value[:-4]\n",
    "    return value\n",
    "\n",
    "dna_df['organism'] = dna_df['organism'].apply(clean_organism)\n",
    "prot_df['organism'] = prot_df['organism'].apply(clean_organism)"
   ]
  },
  {
   "cell_type": "code",
   "execution_count": null,
   "id": "80cfac21-2cae-43fc-aee4-7f44faba9688",
   "metadata": {
    "scrolled": true
   },
   "outputs": [],
   "source": [
    "# filter the df to rows with non-unique organism value\n",
    "def filter_df(df):\n",
    "    organism_counts = df['organism'].value_counts()\n",
    "    values_to_keep = organism_counts[organism_counts > 1].index\n",
    "    df = df[df['organism'].isin(values_to_keep)]\n",
    "    return df\n",
    "\n",
    "dna_df = filter_df(dna_df)\n",
    "prot_df = filter_df(prot_df)"
   ]
  },
  {
   "cell_type": "markdown",
   "id": "461ec01e-1eff-4a29-80ed-1c5c9144dff3",
   "metadata": {},
   "source": [
    "### Random forest classifier - predict organism or predict gene"
   ]
  },
  {
   "cell_type": "code",
   "execution_count": null,
   "id": "6be1f296",
   "metadata": {},
   "outputs": [],
   "source": [
    "size_before = len(dna_df)\n",
    "while True:\n",
    "    organisms_to_keep = [org for org, count in dna_df['organism'].value_counts().to_dict().items() if count > 5]\n",
    "    dna_df_rfc = dna_df[dna_df['organism'].isin(organisms_to_keep)]\n",
    "    prot_df_rfc = prot_df[prot_df['organism'].isin(organisms_to_keep)]\n",
    "\n",
    "    genes_to_keep = [gene for gene, count in dna_df['gene'].value_counts().to_dict().items() if count > 5]\n",
    "    dna_df_rfc = dna_df_rfc[dna_df_rfc['gene'].isin(genes_to_keep)]\n",
    "    prot_df_rfc = prot_df_rfc[prot_df_rfc['gene'].isin(genes_to_keep)]\n",
    "    \n",
    "    if len(dna_df_rfc) == size_before:\n",
    "        break\n",
    "    size_before = len(dna_df_rfc)"
   ]
  },
  {
   "cell_type": "code",
   "execution_count": null,
   "id": "d5c96bfc-f2d4-41d4-b573-92fb7a5aebac",
   "metadata": {},
   "outputs": [],
   "source": [
    "def print_measures(y_test, y_pred):\n",
    "    print(f\"Classification Report:\\n{classification_report(y_test, y_pred)}\")"
   ]
  },
  {
   "cell_type": "code",
   "execution_count": null,
   "id": "b97d3a58-c631-4b72-878c-53f79bacfb5b",
   "metadata": {},
   "outputs": [],
   "source": [
    "def random_forest_classifier(col_to_pred):\n",
    "    # Preprocess the data\n",
    "    X = pd.DataFrame(dna_df_rfc['embeddings'].tolist())\n",
    "    y = dna_df_rfc[col_to_pred]\n",
    "    \n",
    "    # Split the data into training and testing sets\n",
    "    X_train, X_test, y_train, y_test = train_test_split(X, y, test_size=0.3, random_state=42)\n",
    "    \n",
    "    # Train a Random Forest Classifier\n",
    "    clf = RandomForestClassifier(n_estimators=100, random_state=42)\n",
    "    clf.fit(X_train, y_train)\n",
    "    \n",
    "    # Make predictions\n",
    "    y_pred = clf.predict(X_test)\n",
    "    \n",
    "    print_measures(y_test, y_pred)\n",
    "\n",
    "    X = pd.DataFrame(prot_df_rfc['embeddings'].tolist())\n",
    "    y = prot_df_rfc[col_to_pred]\n",
    "    \n",
    "    # Split the data into training and testing sets\n",
    "    X_train, X_test, y_train, y_test = train_test_split(X, y, test_size=0.3, random_state=42)\n",
    "    \n",
    "    # Train a Random Forest Classifier\n",
    "    clf = RandomForestClassifier(n_estimators=100, random_state=42)\n",
    "    clf.fit(X_train, y_train)\n",
    "    \n",
    "    # Make predictions\n",
    "    y_pred = clf.predict(X_test)\n",
    "    \n",
    "    print_measures(y_test, y_pred)"
   ]
  },
  {
   "cell_type": "code",
   "execution_count": null,
   "id": "40f37ef9-ce5e-462f-a0b0-1a2a3d26c431",
   "metadata": {},
   "outputs": [],
   "source": [
    "# predict the organism\n",
    "random_forest_classifier(col_to_pred='organism')"
   ]
  },
  {
   "cell_type": "code",
   "execution_count": null,
   "id": "5554712b-362a-4f64-bfb2-e95ddace0ed5",
   "metadata": {},
   "outputs": [],
   "source": [
    "# predict the gene\n",
    "random_forest_classifier(col_to_pred='gene')"
   ]
  },
  {
   "cell_type": "markdown",
   "id": "33f8f31e-2648-406c-9e93-5d1e14c6e11b",
   "metadata": {},
   "source": [
    "### Hierarchical clustering (by organism or gene)"
   ]
  },
  {
   "cell_type": "code",
   "execution_count": null,
   "id": "a8a35925-a1fb-4ce2-aff6-d35f997cd040",
   "metadata": {},
   "outputs": [],
   "source": [
    "# Genes\n",
    "def genes_dendogram(df, color_threshold, model):\n",
    "    # Take embedding's mean for each organism\n",
    "    tmp_df = df.groupby('gene')['embeddings'].apply(lambda x: np.mean(np.array(x).tolist(), axis=0)).reset_index()\n",
    "\n",
    "    X = np.array(tmp_df['embeddings'].tolist())\n",
    "    Z = linkage(cosine_similarity(X), 'ward')\n",
    "\n",
    "    # Plot the Dendrogram\n",
    "    plt.figure(figsize=(20, 5))\n",
    "    dendrogram(Z, labels=tmp_df['gene'].values, leaf_rotation=0, leaf_font_size=12, color_threshold=color_threshold)\n",
    "    plt.title(f\"Dendrogram of Genes Hierarchical Clustering\\n{model}\")\n",
    "    plt.xlabel('Gene')\n",
    "    plt.ylabel('Distance')\n",
    "    plt.savefig(f\"gene_dendogram_{model}\", dpi=300, bbox_inches='tight')\n",
    "    plt.show()"
   ]
  },
  {
   "cell_type": "code",
   "execution_count": null,
   "id": "4694c662",
   "metadata": {},
   "outputs": [],
   "source": [
    "genes_dendogram(dna_df, color_threshold=0.7, model='DNABERT-2')\n",
    "genes_dendogram(prot_df, color_threshold=1.5, model='ProteinBERT')"
   ]
  },
  {
   "cell_type": "code",
   "execution_count": null,
   "id": "b054b820",
   "metadata": {},
   "outputs": [],
   "source": [
    "# Organisms\n",
    "def organism_dendogram(df, color_threshold, model):\n",
    "    # Take embedding's mean for each organism\n",
    "    tmp_df = df.groupby('organism')['embeddings'].apply(lambda x: np.mean(np.array(x).tolist(), axis=0)).reset_index()\n",
    "\n",
    "    X = np.array(tmp_df['embeddings'].tolist())\n",
    "    Z = linkage(cosine_similarity(X), 'ward')\n",
    "\n",
    "    # Plot the Dendrogram\n",
    "    plt.figure(figsize=(20, 5))\n",
    "    dendrogram(Z, labels=tmp_df['organism'].values, leaf_rotation=90, leaf_font_size=3, color_threshold=color_threshold)\n",
    "    plt.title(f\"Dendrogram of Hierarchical Clustering\\n{model}\")\n",
    "    plt.xlabel('Organism')\n",
    "    plt.ylabel('Distance')\n",
    "    plt.savefig(f\"organism_dendogram_{model}\", dpi=300, bbox_inches='tight')\n",
    "    plt.show()"
   ]
  },
  {
   "cell_type": "code",
   "execution_count": null,
   "id": "ffa9eab5-d251-4b35-87f4-6296d00ec816",
   "metadata": {},
   "outputs": [],
   "source": [
    "organism_dendogram(dna_df, color_threshold=15, model='DNABERT-2')\n",
    "organism_dendogram(prot_df, color_threshold=25, model='ProteinBERT')"
   ]
  },
  {
   "cell_type": "markdown",
   "id": "d5741a21",
   "metadata": {},
   "source": [
    "### Neural Network"
   ]
  },
  {
   "cell_type": "code",
   "execution_count": null,
   "id": "c059f30a",
   "metadata": {},
   "outputs": [],
   "source": [
    "def create_model(input_dim, num_classes):\n",
    "    model = Sequential([\n",
    "        Dense(128, activation='relu', input_shape=(input_dim,)),\n",
    "        Dropout(0.3),\n",
    "        Dense(64, activation='relu'),\n",
    "        Dropout(0.2),\n",
    "        Dense(num_classes, activation='softmax')\n",
    "    ])\n",
    "    model.compile(\n",
    "        optimizer=Adam(learning_rate=0.001),\n",
    "        loss='sparse_categorical_crossentropy',\n",
    "        metrics=['accuracy']\n",
    "    )\n",
    "    return model"
   ]
  },
  {
   "cell_type": "code",
   "execution_count": null,
   "id": "117d76bf",
   "metadata": {},
   "outputs": [],
   "source": [
    "def run_organism_and_genus_histories(df, label_encoder, create_model_fn, n_splits=5, epochs=100):\n",
    "    X = np.array(df['embeddings'].tolist())\n",
    "    input_dim = X.shape[1]\n",
    "\n",
    "    # Encode labels\n",
    "    y_full = label_encoder.fit_transform(df['organism'])\n",
    "    y_genus = label_encoder.fit_transform(df['organism'].str.split().str[0])\n",
    "    y_gene = label_encoder.fit_transform(df['gene'])\n",
    "    \n",
    "    label_sets = {\n",
    "        \"Organism Prediction\": y_full,\n",
    "        \"Organism Prediction (Genus Only)\": y_genus,\n",
    "        \"Gene\": y_gene\n",
    "    }\n",
    "\n",
    "    all_histories = {}\n",
    "\n",
    "    for title, y in label_sets.items():\n",
    "        histories = []\n",
    "        skf = StratifiedKFold(n_splits=n_splits, shuffle=True, random_state=42)\n",
    "\n",
    "        for fold, (train_index, val_index) in enumerate(skf.split(X, y), 1):\n",
    "            print(fold)\n",
    "            X_train, X_val = X[train_index], X[val_index]\n",
    "            y_train, y_val = y[train_index], y[val_index]\n",
    "\n",
    "            model = create_model_fn(input_dim, len(np.unique(y)))\n",
    "            history = model.fit(\n",
    "                X_train, y_train,\n",
    "                validation_data=(X_val, y_val),\n",
    "                epochs=epochs,\n",
    "                batch_size=32,\n",
    "                callbacks=[EarlyStopping(monitor='val_loss', patience=10, restore_best_weights=True)],\n",
    "                verbose=0\n",
    "            )\n",
    "            histories.append(history)\n",
    "\n",
    "        all_histories[title] = histories\n",
    "\n",
    "    return all_histories"
   ]
  },
  {
   "cell_type": "code",
   "execution_count": null,
   "id": "76488fc4",
   "metadata": {},
   "outputs": [],
   "source": [
    "def plot_cross_validation_average(dup_hist_lst, dup_titles, suptitle, fig_name):\n",
    "    metrics = ['loss', 'val_loss', 'accuracy', 'val_accuracy']\n",
    "    min_epochs = min(\n",
    "        min(len(h.history['loss']) for h in histories)\n",
    "        for histories_list in dup_hist_lst\n",
    "        for histories in histories_list\n",
    "    )\n",
    "    plt.figure(figsize=(18, 5))\n",
    "    \n",
    "    dna_colors = cm.Blues(np.linspace(0.5, 0.9, len(dup_hist_lst[0])))\n",
    "    protein_colors = cm.Reds(np.linspace(0.2, 0.4, len(dup_hist_lst[1])))\n",
    "    all_colors = [dna_colors, protein_colors]\n",
    "    \n",
    "    for j, all_histories_list in enumerate(dup_hist_lst):\n",
    "        titles = dup_titles[j]\n",
    "        colors = all_colors[j]\n",
    "        \n",
    "        for i, (m_train, m_val, metric_title) in enumerate([\n",
    "            ('loss', 'val_loss', 'Loss'),\n",
    "            ('accuracy', 'val_accuracy', 'Accuracy')\n",
    "        ]):\n",
    "            ax = plt.subplot(1, 2, i + 1)\n",
    "            epochs = np.arange(1, min_epochs + 1)\n",
    "            for histories, title, color in zip(all_histories_list, titles, colors):\n",
    "                data_train = np.array([h.history[m_train][:min_epochs] for h in histories])\n",
    "                data_val = np.array([h.history[m_val][:min_epochs] for h in histories])\n",
    "                mean_train = np.mean(data_train, axis=0)\n",
    "                std_train = np.std(data_train, axis=0)\n",
    "                mean_val = np.mean(data_val, axis=0)\n",
    "                std_val = np.std(data_val, axis=0)\n",
    "                ax.plot(epochs, mean_train, linestyle='--', color=color)\n",
    "                ax.fill_between(epochs, mean_train - std_train, mean_train + std_train, alpha=0.2, color=color)\n",
    "                ax.plot(epochs, mean_val, linestyle='-', color=color)\n",
    "                ax.fill_between(epochs, mean_val - std_val, mean_val + std_val, alpha=0.2, color=color)\n",
    "            ax.set_title(f'{metric_title} (Mean ± SD)')\n",
    "            ax.set_xlabel(\"Epochs\")\n",
    "            ax.set_ylabel(metric_title)\n",
    "    \n",
    "    legend_elements = []\n",
    "    data_types = ['DNA', 'Protein']\n",
    "    title_prefixes = ['Train full name prediction', 'Validation full name prediction', \n",
    "                      'Train genus only prediction', 'Validation genus only prediction']\n",
    "    \n",
    "    for j, (data_type, colors) in enumerate(zip(data_types, all_colors)):\n",
    "        for k, (title, color) in enumerate(zip(dup_titles[j], colors)):\n",
    "            if k % 2 == 0:  # Full name\n",
    "                legend_elements.append(Line2D([0], [0], color=color, linestyle='--', \n",
    "                                            label=f\"Train, {title}\"))\n",
    "                legend_elements.append(Line2D([0], [0], color=color, linestyle='-', \n",
    "                                            label=f\"Validation, {title}\"))\n",
    "            else:  # Genus only\n",
    "                legend_elements.append(Line2D([0], [0], color=color, linestyle='--', \n",
    "                                            label=f\"Train, {title}\"))\n",
    "                legend_elements.append(Line2D([0], [0], color=color, linestyle='-', \n",
    "                                            label=f\"Validation, {title}\"))\n",
    "    \n",
    "    plt.figlegend(handles=legend_elements, loc='lower center', ncol=4, bbox_to_anchor=(0.5, -0.05))\n",
    "    plt.suptitle(suptitle, fontsize=14)\n",
    "    plt.subplots_adjust(bottom=0.15)\n",
    "    plt.savefig(f\"{fig_name}\", dpi=300, bbox_inches='tight')\n",
    "    plt.show()"
   ]
  },
  {
   "cell_type": "code",
   "execution_count": null,
   "id": "ee1cac26",
   "metadata": {},
   "outputs": [],
   "source": [
    "label_encoder = LabelEncoder()\n",
    "prot_label_encoder = LabelEncoder()\n",
    "histories = run_organism_and_genus_histories(dna_df, label_encoder, create_model)\n",
    "prot_histories = run_organism_and_genus_histories(prot_df, prot_label_encoder, create_model)"
   ]
  },
  {
   "cell_type": "code",
   "execution_count": null,
   "id": "2b715c19",
   "metadata": {},
   "outputs": [],
   "source": [
    "histories_val = list(histories.values())\n",
    "prot_histories_val = list(prot_histories.values())\n",
    "\n",
    "# by orgainsm\n",
    "dup_lst = [histories_val[:2], prot_histories_val[:2]]\n",
    "titles = [['DNA, full name', 'DNA, genus only'], ['Protein, full name', 'Protein, genus only']]\n",
    "suptitle = \"Cross Validation Performance: Full Organism Name vs. Genus Only\"\n",
    "fig_name = 'cross_validation_organism.png'\n",
    "plot_cross_validation_average(dup_lst, titles, suptitle, fig_name)\n",
    "\n",
    "# by gene\n",
    "dup_lst = [[histories_val[2]], [prot_histories_val[2]]]\n",
    "titles = [['DNA, gene prediction'], ['Protein, gene prediction']]\n",
    "suptitle = \"Cross validation Performance: Gene Prediction\"\n",
    "fig_name = 'cross_validation_gene.png'\n",
    "plot_cross_validation_average(dup_lst, titles, suptitle, fig_name)"
   ]
  },
  {
   "cell_type": "markdown",
   "id": "0ed4956a-fbd9-466c-8740-e8704b18d81f",
   "metadata": {},
   "source": [
    "### K- means clustering"
   ]
  },
  {
   "cell_type": "code",
   "execution_count": null,
   "id": "1242af47",
   "metadata": {},
   "outputs": [],
   "source": [
    "# Elbow method\n",
    "\n",
    "X_protein = np.array(prot_df['embeddings'].tolist())\n",
    "X_dna = np.array(dna_df['embeddings'].tolist())\n",
    "K = range(1, len(dna_df[\"gene\"].unique()) *2)\n",
    "inertia_protein = []\n",
    "inertia_dna = []\n",
    "\n",
    "for k in tqdm(K):\n",
    "    kmeans_protein = KMeans(n_clusters=k, random_state=42)\n",
    "    kmeans_protein.fit(X_protein)\n",
    "    inertia_protein.append(kmeans_protein.inertia_)\n",
    "    kmeans_dna = KMeans(n_clusters=k, random_state=42)\n",
    "    kmeans_dna.fit(X_dna)\n",
    "    inertia_dna.append(kmeans_dna.inertia_)\n",
    "plt.figure(figsize=(12, 6))\n",
    "plt.subplot(1, 2, 1)\n",
    "plt.plot(K, inertia_protein, 'bx-')\n",
    "plt.xlabel('k')\n",
    "plt.ylabel('Inertia')\n",
    "plt.title('Elbow Method for ProteinBERT')\n",
    "plt.subplot(1, 2, 2)\n",
    "plt.plot(K, inertia_dna, 'bx-')\n",
    "plt.xlabel('k')\n",
    "plt.ylabel('Inertia')\n",
    "plt.title('Elbow Method for DNABERT2')\n",
    "plt.savefig(\"Elbow_method_bacteria.png\", dpi=300, bbox_inches='tight')\n",
    "plt.show()"
   ]
  },
  {
   "cell_type": "code",
   "execution_count": null,
   "id": "6420e39c-ca5a-40f5-a781-b4635d601d3b",
   "metadata": {},
   "outputs": [],
   "source": [
    "# kmeans clustering\n",
    "num_clusters = 10\n",
    "kmeans_protein = KMeans(n_clusters=num_clusters, random_state=42)\n",
    "protein_labels = kmeans_protein.fit_predict(X_protein)\n",
    "tsne = TSNE(n_components=2, random_state=42)\n",
    "X_protein_tsne = tsne.fit_transform(X_protein)\n",
    "kmeans_dna = KMeans(n_clusters=num_clusters, random_state=42)\n",
    "dna_labels = kmeans_dna.fit_predict(X_dna)\n",
    "X_dna_tsne = tsne.fit_transform(X_dna)"
   ]
  },
  {
   "cell_type": "code",
   "execution_count": null,
   "id": "46dd26da-efd0-44b7-ba45-038acf61c970",
   "metadata": {},
   "outputs": [],
   "source": [
    "fig, ax = plt.subplots(1, 2, figsize=(12, 5))\n",
    "plt.suptitle(\"t-SNE of KMeans Clustering\", fontsize=15)\n",
    "# Protein\n",
    "ax1 = ax[0]\n",
    "ax1.scatter(X_protein_tsne[:, 0], X_protein_tsne[:, 1], c=protein_labels, cmap='viridis', s=20)\n",
    "ax1.set_title(\"ProteinBERT\")\n",
    "ax1.set_xlabel(\"t-SNE 1\")\n",
    "ax1.set_ylabel(\"t-SNE 2\")\n",
    "ax1.text(-0.1, 1.01, \"A.\", fontsize=15, ha='center', va='center', transform=ax1.transAxes)\n",
    "\n",
    "# DNA\n",
    "ax2 = ax[1]\n",
    "ax2.scatter(X_dna_tsne[:, 0], X_dna_tsne[:, 1], c=dna_labels, cmap='viridis', s=20)\n",
    "ax2.set_title(\"DNABERT-2\")\n",
    "ax2.set_xlabel(\"t-SNE 1\")\n",
    "ax2.set_ylabel(\"t-SNE 2\")\n",
    "ax2.text(-0.1, 1.01, \"B.\", fontsize=15, ha='center', va='center', transform=ax2.transAxes)\n",
    "\n",
    "plt.tight_layout()\n",
    "plt.savefig(\"tSNE.png\", dpi=300, bbox_inches='tight')\n",
    "plt.show()"
   ]
  }
 ],
 "metadata": {
  "kernelspec": {
   "display_name": "new_DNABERT2",
   "language": "python",
   "name": "new_dnabert2"
  },
  "language_info": {
   "codemirror_mode": {
    "name": "ipython",
    "version": 3
   },
   "file_extension": ".py",
   "mimetype": "text/x-python",
   "name": "python",
   "nbconvert_exporter": "python",
   "pygments_lexer": "ipython3",
   "version": "3.8.20"
  }
 },
 "nbformat": 4,
 "nbformat_minor": 5
}
