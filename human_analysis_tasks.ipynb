{
 "cells": [
  {
   "cell_type": "markdown",
   "id": "2fff1286",
   "metadata": {},
   "source": [
    "### This notebook holds the tasks done on the human dataset's embeddings"
   ]
  },
  {
   "cell_type": "code",
   "execution_count": null,
   "id": "e43e11bc-7760-4942-9357-139f0666259e",
   "metadata": {},
   "outputs": [],
   "source": [
    "import numpy as np\n",
    "import pandas as pd\n",
    "import matplotlib.pyplot as plt\n",
    "import torch, json, re\n",
    "\n",
    "from scipy.cluster.hierarchy import dendrogram, linkage\n",
    "\n",
    "from sklearn.manifold import TSNE\n",
    "from sklearn.cluster import KMeans\n",
    "from sklearn.decomposition import PCA\n",
    "from sklearn.preprocessing import LabelEncoder\n",
    "from sklearn.ensemble import RandomForestClassifier\n",
    "from sklearn.model_selection import KFold\n",
    "from sklearn.metrics import accuracy_score, precision_score, recall_score, f1_score, classification_report, silhouette_score\n",
    "from sklearn.metrics.pairwise import cosine_similarity\n",
    "from sklearn.cluster import AgglomerativeClustering\n",
    "\n",
    "from tensorflow.keras.callbacks import ModelCheckpoint, EarlyStopping\n",
    "from tensorflow.keras.models import Sequential\n",
    "from tensorflow.keras.layers import Dense, Dropout\n",
    "from tensorflow.keras.optimizers import Adam\n",
    "\n",
    "device = \"cuda:0\" if torch.cuda.is_available() else \"cpu\""
   ]
  },
  {
   "cell_type": "code",
   "execution_count": null,
   "id": "e40006d1",
   "metadata": {},
   "outputs": [],
   "source": [
    "# load data\n",
    "df_dna = pd.read_csv('dna_embeddings_human.csv')\n",
    "df_protein = pd.read_csv('protein_embeddings_human.csv')"
   ]
  },
  {
   "cell_type": "code",
   "execution_count": null,
   "id": "a4abf359-bcc6-4b03-93cc-f861021ef33a",
   "metadata": {},
   "outputs": [],
   "source": [
    "# load embeddings as numpy array and remove redundent columns\n",
    "df_dna['embeddings'] = df_dna['embeddings_json'].apply(lambda x: np.array(json.loads(x)))\n",
    "drop_cols = ['Unnamed: 0', 'embeddings_np', 'embeddings_tensor', 'embeddings_json']\n",
    "for col in drop_cols:\n",
    "    if col in df_dna.columns:\n",
    "        df_dna.drop(columns=[col], inplace=True)\n",
    "\n",
    "df_protein['embeddings'] = df_protein['embeddings_json'].apply(lambda x: np.array(json.loads(x)))\n",
    "drop_cols = ['Unnamed: 0', 'embeddings_np', 'embeddings_tensor', 'embeddings_json']\n",
    "for col in drop_cols:\n",
    "    if col in df_protein.columns:\n",
    "        df_protein.drop(columns=[col], inplace=True)"
   ]
  },
  {
   "cell_type": "markdown",
   "id": "3b6b9361",
   "metadata": {},
   "source": [
    "### Random forest classifier - predict gene group"
   ]
  },
  {
   "cell_type": "code",
   "execution_count": null,
   "id": "38fcb836",
   "metadata": {},
   "outputs": [],
   "source": [
    "def print_measures(y_test, y_pred):\n",
    "    print(f\"Accuracy: {accuracy_score(y_test, y_pred)}\")\n",
    "    print(f\"Precision per class:\\n{precision_score(y_test, y_pred, average=None)}\")\n",
    "    print(f\"Recall per class:\\n{recall_score(y_test, y_pred, average=None)}\")\n",
    "    print(f\"F1-Score per class:\\n{f1_score(y_test, y_pred, average=None)}\")\n",
    "    print(f\"Classification Report:\\n{classification_report(y_test, y_pred)}\")"
   ]
  },
  {
   "cell_type": "code",
   "execution_count": null,
   "id": "f474c1a5",
   "metadata": {},
   "outputs": [],
   "source": [
    "def random_forest_classifier_kfold(df, col_to_pred, n_splits=4):\n",
    "    # Preprocess the data\n",
    "    X = pd.DataFrame(df['embeddings'].tolist())\n",
    "    y = df[col_to_pred]\n",
    "    \n",
    "    kf = KFold(n_splits=n_splits, shuffle=True, random_state=42)\n",
    "    \n",
    "    all_y_true = []\n",
    "    all_y_pred = []\n",
    "    \n",
    "    for train_index, test_index in kf.split(X):\n",
    "        X_train, X_test = X.iloc[train_index], X.iloc[test_index]\n",
    "        y_train, y_test = y.iloc[train_index], y.iloc[test_index]\n",
    "        \n",
    "        clf = RandomForestClassifier( random_state=42)\n",
    "        clf.fit(X_train, y_train)\n",
    "        y_pred = clf.predict(X_test)\n",
    "        \n",
    "        all_y_true.extend(y_test)\n",
    "        all_y_pred.extend(y_pred)\n",
    "    \n",
    "    print_measures(all_y_true, all_y_pred)"
   ]
  },
  {
   "cell_type": "code",
   "execution_count": null,
   "id": "bbb25938",
   "metadata": {
    "scrolled": true
   },
   "outputs": [],
   "source": [
    "random_forest_classifier_kfold(df_dna,'class')\n",
    "random_forest_classifier_kfold(df_protein,'class')"
   ]
  },
  {
   "cell_type": "markdown",
   "id": "b55c0d59-e08b-45d5-809e-5c5aaf119661",
   "metadata": {},
   "source": [
    "###  Hierarchical clustering (by gene)"
   ]
  },
  {
   "cell_type": "code",
   "execution_count": null,
   "id": "3b473290-01a6-4395-a835-db5ba215c89a",
   "metadata": {},
   "outputs": [],
   "source": [
    "fig, ax = plt.subplots(2,1, figsize=(20, 10))\n",
    "\n",
    "plt.suptitle(\"Dendrogram of Hierarchical Clustering\", fontsize=20)\n",
    "\n",
    "# Protein \n",
    "X = np.array(df_protein['embeddings'].tolist())\n",
    "Z = linkage(cosine_similarity(X), 'ward')\n",
    "# Plot the Dendrogram\n",
    "ax1 = ax[0]\n",
    "ax1.set_title(\"ProteinBERT\", fontsize=15)\n",
    "dendrogram(Z, labels=df_protein['gene'].values, leaf_rotation=30, leaf_font_size=12, color_threshold=1.5, ax=ax1)\n",
    "ax1.set_ylabel('Distance')\n",
    "ax1.text(-0.05, 1.1, \"A.\", fontsize=18, ha='center', va='center', transform=ax1.transAxes)\n",
    "\n",
    "# DNA\n",
    "X = np.array(df_dna['embeddings'].tolist())\n",
    "Z = linkage(cosine_similarity(X), 'ward')\n",
    "# Plot the Dendrogram\n",
    "ax2 = ax[1]\n",
    "ax2.set_title(\"DNABERT-2\", fontsize=15)\n",
    "dendrogram(Z, labels=df_dna['gene'].values, leaf_rotation=30, leaf_font_size=12, color_threshold=0.7, ax=ax2)\n",
    "\n",
    "ax2.set_ylabel('Distance')\n",
    "ax2.set_xlabel('Gene', )\n",
    "ax2.text(-0.05, 1.1, \"B.\", fontsize=18, ha='center', va='center', transform=ax2.transAxes)\n",
    "fig.tight_layout()\n",
    "plt.show()"
   ]
  },
  {
   "cell_type": "code",
   "execution_count": null,
   "id": "eec18b14",
   "metadata": {},
   "outputs": [],
   "source": [
    "# Elbow method for KMeans\n",
    "X_protein = np.array(df_protein['embeddings'].tolist())\n",
    "X_dna = np.array(df_dna['embeddings'].tolist())\n",
    "\n",
    "inertia_protein = []\n",
    "inertia_dna = []\n",
    "K = range(1, 20)\n",
    "for k in K:\n",
    "    kmeans_protein = KMeans(n_clusters=k, random_state=42)\n",
    "    kmeans_protein.fit(X_protein)\n",
    "    inertia_protein.append(kmeans_protein.inertia_)\n",
    "    kmeans_dna = KMeans(n_clusters=k, random_state=42)\n",
    "    kmeans_dna.fit(X_dna)\n",
    "    inertia_dna.append(kmeans_dna.inertia_)\n",
    "plt.figure(figsize=(12, 6))\n",
    "plt.subplot(1, 2, 1)\n",
    "plt.plot(K, inertia_protein, 'bx-')\n",
    "plt.xlabel('k')\n",
    "plt.ylabel('Inertia')\n",
    "plt.title('Elbow Method for Protein')\n",
    "plt.subplot(1, 2, 2)\n",
    "plt.plot(K, inertia_dna, 'bx-')\n",
    "plt.xlabel('k')\n",
    "plt.ylabel('Inertia')\n",
    "plt.title('Elbow Method for DNA')\n",
    "plt.show()"
   ]
  },
  {
   "cell_type": "code",
   "execution_count": null,
   "id": "99e2af9f",
   "metadata": {},
   "outputs": [],
   "source": [
    "# kmeans clustering\n",
    "num_clusters = 5\n",
    "kmeans_protein = KMeans(n_clusters=num_clusters, random_state=42)\n",
    "protein_labels = kmeans_protein.fit_predict(X_protein)\n",
    "\n",
    "tsne = TSNE(n_components=2, random_state=42)\n",
    "X_protein_tsne = tsne.fit_transform(X_protein)\n",
    "\n",
    "kmeans_dna = KMeans(n_clusters=num_clusters, random_state=42)\n",
    "dna_labels = kmeans_dna.fit_predict(X_dna)\n",
    "X_dna_tsne = tsne.fit_transform(X_dna)"
   ]
  },
  {
   "cell_type": "code",
   "execution_count": null,
   "id": "3532e40c",
   "metadata": {},
   "outputs": [],
   "source": [
    "fig, ax = plt.subplots(1, 2, figsize=(12, 5))\n",
    "plt.suptitle(\"t-SNE of KMeans Clustering\", fontsize=20)\n",
    "# Protein\n",
    "ax1 = ax[0]\n",
    "ax1.scatter(X_protein_tsne[:, 0], X_protein_tsne[:, 1], c=protein_labels, cmap='viridis', s=20)\n",
    "ax1.set_title(\"ProteinBERT\")\n",
    "ax1.set_xlabel(\"t-SNE 1\")\n",
    "ax1.set_ylabel(\"t-SNE 2\")\n",
    "ax1.text(-0.05, 1.01, \"A.\", fontsize=15, ha='center', va='center', transform=ax1.transAxes)\n",
    "for i, txt in enumerate(df_protein['gene']):\n",
    "    ax1.annotate(txt, (X_protein_tsne[i, 0], X_protein_tsne[i, 1]), fontsize=8)\n",
    "# DNA\n",
    "ax2 = ax[1]\n",
    "ax2.scatter(X_dna_tsne[:, 0], X_dna_tsne[:, 1], c=dna_labels, cmap='viridis', s=50)\n",
    "ax2.set_title(\"DNABERT-2\")\n",
    "ax2.set_xlabel(\"t-SNE 1\")\n",
    "ax2.set_ylabel(\"t-SNE 2\")\n",
    "ax2.text(-0.05, 1.01, \"B.\", fontsize=15, ha='center', va='center', transform=ax2.transAxes)\n",
    "for i, txt in enumerate(df_dna['gene']):\n",
    "    ax2.annotate(txt, (X_dna_tsne[i, 0], X_dna_tsne[i, 1]), fontsize=8)\n",
    "\n",
    "plt.tight_layout()\n",
    "plt.show()"
   ]
  }
 ],
 "metadata": {
  "kernelspec": {
   "display_name": "new_DNABERT2",
   "language": "python",
   "name": "new_dnabert2"
  },
  "language_info": {
   "codemirror_mode": {
    "name": "ipython",
    "version": 3
   },
   "file_extension": ".py",
   "mimetype": "text/x-python",
   "name": "python",
   "nbconvert_exporter": "python",
   "pygments_lexer": "ipython3",
   "version": "3.8.20"
  }
 },
 "nbformat": 4,
 "nbformat_minor": 5
}
