{
 "cells": [
  {
   "cell_type": "markdown",
   "id": "3fae47db",
   "metadata": {},
   "source": [
    "### This notebook generates ProteinBERT embeddings for bacterial data"
   ]
  },
  {
   "cell_type": "code",
   "execution_count": null,
   "id": "697747d4",
   "metadata": {},
   "outputs": [],
   "source": [
    "import pandas as pd\n",
    "import glob, json\n",
    "\n",
    "from proteinbert import load_pretrained_model\n",
    "from proteinbert.conv_and_global_attention_model import get_model_with_hidden_layers_as_outputs\n",
    "\n",
    "from tqdm import tqdm\n",
    "tqdm.pandas() "
   ]
  },
  {
   "cell_type": "code",
   "execution_count": null,
   "id": "d89fcb7f",
   "metadata": {},
   "outputs": [],
   "source": [
    "base_dir = '' # Insert the directory where you cloned the repository\n",
    "data_dir = f'{base_dir}/data'\n",
    "data_files = glob.glob(f'{data_dir}/*.csv')"
   ]
  },
  {
   "cell_type": "code",
   "execution_count": null,
   "id": "2338727d",
   "metadata": {},
   "outputs": [],
   "source": [
    "# Create a df containing Proteins sequences from all genes\n",
    "protein_df = pd.DataFrame()\n",
    "for file in data_files:\n",
    "    data = pd.read_csv(file)\n",
    "    gene_name = file.split('/')[-1].split('.')[0]\n",
    "    data = data.drop(columns='dna_seq')\n",
    "    data['gene'] = gene_name\n",
    "    protein_df = pd.concat([protein_df, data], ignore_index=True)\n",
    "\n",
    "# Cleanup\n",
    "protein_df.rename(columns={' organism': 'organism', ' strain': 'strain'}, inplace=True)\n",
    "protein_df = protein_df[~protein_df['organism'].isna()]\n",
    "protein_df = protein_df[~protein_df['strain'].isna()]"
   ]
  },
  {
   "cell_type": "code",
   "execution_count": null,
   "id": "0dfd0d53",
   "metadata": {
    "scrolled": true
   },
   "outputs": [],
   "source": [
    "def get_embedding(aa_seq):\n",
    "    seqs = [aa_seq]\n",
    "    seq_len = len(seqs)\n",
    "    batch_size = 1\n",
    "    pretrained_model_generator, input_encoder = load_pretrained_model()\n",
    "    model = get_model_with_hidden_layers_as_outputs(pretrained_model_generator.create_model(seq_len))\n",
    "    encoded_x = input_encoder.encode_X(seqs, seq_len)\n",
    "    local_representations, global_representations = model.predict(encoded_x, batch_size=batch_size)\n",
    "    embedding = global_representations[0]\n",
    "    return embedding\n",
    "\n",
    "protein_df['embeddings'] = protein_df['protein_seq'].progress_apply(get_embedding)"
   ]
  },
  {
   "cell_type": "code",
   "execution_count": null,
   "id": "55c20af4-e17d-4c66-a0b9-3bf34bb83a02",
   "metadata": {},
   "outputs": [],
   "source": [
    "protein_df['embeddings_json'] = protein_df['embeddings'].apply(lambda x: json.dumps(x.tolist()))"
   ]
  },
  {
   "cell_type": "code",
   "execution_count": null,
   "id": "b1ad9ac2-1af0-4ee6-9047-47b6d2e93339",
   "metadata": {},
   "outputs": [],
   "source": [
    "protein_df.to_csv('protein_embeddings.csv')"
   ]
  }
 ],
 "metadata": {
  "kernelspec": {
   "display_name": "new_ProteinBert",
   "language": "python",
   "name": "new_proteinbert"
  },
  "language_info": {
   "codemirror_mode": {
    "name": "ipython",
    "version": 3
   },
   "file_extension": ".py",
   "mimetype": "text/x-python",
   "name": "python",
   "nbconvert_exporter": "python",
   "pygments_lexer": "ipython3",
   "version": "3.10.16"
  }
 },
 "nbformat": 4,
 "nbformat_minor": 5
}
